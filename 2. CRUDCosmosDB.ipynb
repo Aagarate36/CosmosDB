{
 "cells": [
  {
   "cell_type": "code",
   "execution_count": 1,
   "metadata": {},
   "outputs": [
    {
     "name": "stdout",
     "output_type": "stream",
     "text": [
      "Collecting azure-cosmos\n",
      "  Downloading azure_cosmos-4.7.0-py3-none-any.whl.metadata (70 kB)\n",
      "Collecting azure-core>=1.25.1 (from azure-cosmos)\n",
      "  Downloading azure_core-1.31.0-py3-none-any.whl.metadata (39 kB)\n",
      "Requirement already satisfied: typing-extensions>=4.6.0 in /home/codespace/.local/lib/python3.12/site-packages (from azure-cosmos) (4.9.0)\n",
      "Requirement already satisfied: requests>=2.21.0 in /home/codespace/.local/lib/python3.12/site-packages (from azure-core>=1.25.1->azure-cosmos) (2.32.3)\n",
      "Requirement already satisfied: six>=1.11.0 in /home/codespace/.local/lib/python3.12/site-packages (from azure-core>=1.25.1->azure-cosmos) (1.16.0)\n",
      "Requirement already satisfied: charset-normalizer<4,>=2 in /home/codespace/.local/lib/python3.12/site-packages (from requests>=2.21.0->azure-core>=1.25.1->azure-cosmos) (3.3.2)\n",
      "Requirement already satisfied: idna<4,>=2.5 in /home/codespace/.local/lib/python3.12/site-packages (from requests>=2.21.0->azure-core>=1.25.1->azure-cosmos) (3.10)\n",
      "Requirement already satisfied: urllib3<3,>=1.21.1 in /home/codespace/.local/lib/python3.12/site-packages (from requests>=2.21.0->azure-core>=1.25.1->azure-cosmos) (2.2.3)\n",
      "Requirement already satisfied: certifi>=2017.4.17 in /home/codespace/.local/lib/python3.12/site-packages (from requests>=2.21.0->azure-core>=1.25.1->azure-cosmos) (2024.8.30)\n",
      "Downloading azure_cosmos-4.7.0-py3-none-any.whl (252 kB)\n",
      "Downloading azure_core-1.31.0-py3-none-any.whl (197 kB)\n",
      "Installing collected packages: azure-core, azure-cosmos\n",
      "Successfully installed azure-core-1.31.0 azure-cosmos-4.7.0\n",
      "Note: you may need to restart the kernel to use updated packages.\n"
     ]
    }
   ],
   "source": [
    "pip install azure-cosmos\n"
   ]
  },
  {
   "cell_type": "code",
   "execution_count": 7,
   "metadata": {},
   "outputs": [],
   "source": [
    "COSMOS_ENDPOINT ='https://azcdb-aag.documents.azure.com:443/'\n",
    "COSMOS_KEY = 'd76iY9NylLN0rIyZEQ2dNOnGyZnfPHkAOdJa4MwQwq2ETnFVlO8nOKJ0g1t78aZhLTa0DXrzFHAaACDbOPKzBg=='\n"
   ]
  },
  {
   "cell_type": "code",
   "execution_count": 8,
   "metadata": {},
   "outputs": [],
   "source": [
    "DATABASE_NAME = 'Test'\n",
    "Container_NAME ='retail'\n"
   ]
  },
  {
   "cell_type": "code",
   "execution_count": 9,
   "metadata": {},
   "outputs": [],
   "source": [
    "from azure.cosmos import CosmosClient, exceptions, PartitionKey"
   ]
  },
  {
   "cell_type": "code",
   "execution_count": 10,
   "metadata": {},
   "outputs": [],
   "source": [
    "client = CosmosClient(COSMOS_ENDPOINT,COSMOS_KEY)\n"
   ]
  },
  {
   "cell_type": "code",
   "execution_count": 11,
   "metadata": {},
   "outputs": [],
   "source": [
    "database = client.create_database_if_not_exists(id=DATABASE_NAME)"
   ]
  },
  {
   "cell_type": "code",
   "execution_count": 12,
   "metadata": {},
   "outputs": [],
   "source": [
    "container = database.create_container_if_not_exists (\n",
    "    id = Container_NAME,\n",
    "\tpartition_key=PartitionKey(path=\"/id\"),\n",
    "\toffer_throughput=400)"
   ]
  },
  {
   "cell_type": "code",
   "execution_count": 19,
   "metadata": {},
   "outputs": [
    {
     "data": {
      "text/plain": [
       "{'id': '1',\n",
       " 'nombre': 'Producto A',\n",
       " 'descripcion': 'Descripcion del producto A',\n",
       " 'precio': '25.99',\n",
       " 'categoria': 'Electronica',\n",
       " '_rid': 'UD0UAJvXKUgBAAAAAAAAAA==',\n",
       " '_self': 'dbs/UD0UAA==/colls/UD0UAJvXKUg=/docs/UD0UAJvXKUgBAAAAAAAAAA==/',\n",
       " '_etag': '\"23003ff1-0000-0200-0000-670713810000\"',\n",
       " '_attachments': 'attachments/',\n",
       " 'departamento': 'Artefactos',\n",
       " '_ts': 1728516993}"
      ]
     },
     "execution_count": 19,
     "metadata": {},
     "output_type": "execute_result"
    }
   ],
   "source": [
    "item = container.read_item (item=\"1\",partition_key=\"1\")\n",
    "item ['precio']='25.99'\n",
    "item ['departamento']='Artefactos'\n",
    "container.replace_item(item=item,body=item)"
   ]
  },
  {
   "cell_type": "code",
   "execution_count": 20,
   "metadata": {},
   "outputs": [
    {
     "name": "stdout",
     "output_type": "stream",
     "text": [
      "Error al actualizar el documento:  (NotFound) Entity with the specified id does not exist in the system. More info: https://aka.ms/cosmosdb-tsg-not-found, \n",
      "RequestStartTime: 2024-10-09T23:41:33.3649681Z, RequestEndTime: 2024-10-09T23:41:33.3658705Z,  Number of regions attempted:1\n",
      "{\"systemHistory\":[{\"dateUtc\":\"2024-10-09T23:40:37.7522132Z\",\"cpu\":0.181,\"memory\":646286480.000,\"threadInfo\":{\"isThreadStarving\":\"False\",\"threadWaitIntervalInMs\":0.04,\"availableThreads\":32762,\"minThreads\":64,\"maxThreads\":32767},\"numberOfOpenTcpConnection\":812},{\"dateUtc\":\"2024-10-09T23:40:47.7622312Z\",\"cpu\":0.361,\"memory\":646285316.000,\"threadInfo\":{\"isThreadStarving\":\"False\",\"threadWaitIntervalInMs\":0.0199,\"availableThreads\":32763,\"minThreads\":64,\"maxThreads\":32767},\"numberOfOpenTcpConnection\":810},{\"dateUtc\":\"2024-10-09T23:40:57.7722208Z\",\"cpu\":0.666,\"memory\":646276600.000,\"threadInfo\":{\"isThreadStarving\":\"False\",\"threadWaitIntervalInMs\":0.0515,\"availableThreads\":32765,\"minThreads\":64,\"maxThreads\":32767},\"numberOfOpenTcpConnection\":812},{\"dateUtc\":\"2024-10-09T23:41:07.7822624Z\",\"cpu\":0.427,\"memory\":646259360.000,\"threadInfo\":{\"isThreadStarving\":\"False\",\"threadWaitIntervalInMs\":0.0668,\"availableThreads\":32763,\"minThreads\":64,\"maxThreads\":32767},\"numberOfOpenTcpConnection\":812},{\"dateUtc\":\"2024-10-09T23:41:17.7922646Z\",\"cpu\":0.454,\"memory\":646284964.000,\"threadInfo\":{\"isThreadStarving\":\"False\",\"threadWaitIntervalInMs\":0.0374,\"availableThreads\":32759,\"minThreads\":64,\"maxThreads\":32767},\"numberOfOpenTcpConnection\":811},{\"dateUtc\":\"2024-10-09T23:41:27.8022548Z\",\"cpu\":0.193,\"memory\":646280516.000,\"threadInfo\":{\"isThreadStarving\":\"False\",\"threadWaitIntervalInMs\":0.0307,\"availableThreads\":32761,\"minThreads\":64,\"maxThreads\":32767},\"numberOfOpenTcpConnection\":812}]}\n",
      "RequestStart: 2024-10-09T23:41:33.3652337Z; ResponseTime: 2024-10-09T23:41:33.3658705Z; StoreResult: StorePhysicalAddress: rntbd://cdb-ms-prod-eastus2-be94.documents.azure.com:14112/apps/5679bb00-dcaf-4918-be82-fa4dc8b7c8c2/services/7e3f52ba-860a-48d5-9b10-0ded7570765d/partitions/a8c97958-d057-434c-9d38-bfb306d4b78f/replicas/133728236056679876s/, LSN: 5, GlobalCommittedLsn: 5, PartitionKeyRangeId: 0, IsValid: True, StatusCode: 404, SubStatusCode: 0, RequestCharge: 1, ItemLSN: -1, SessionToken: -1#5, UsingLocalLSN: True, TransportException: null, BELatencyMs: 0.223, ActivityId: 45827d46-809f-4db4-9a21-d65ec83a15fe, RetryAfterInMs: , ReplicaHealthStatuses: [(port: 14094 | status: Unknown | lkt: 10/8/2024 1:21:39 AM),(port: 14084 | status: Unknown | lkt: 10/8/2024 1:21:39 AM),(port: 14093 | status: Unknown | lkt: 10/8/2024 1:21:39 AM),(port: 14112 | status: Unknown | lkt: 10/8/2024 1:21:39 AM)], TransportRequestTimeline: {\"requestTimeline\":[{\"event\": \"Created\", \"startTimeUtc\": \"2024-10-09T23:41:33.3651422Z\", \"durationInMs\": 0.0092},{\"event\": \"ChannelAcquisitionStarted\", \"startTimeUtc\": \"2024-10-09T23:41:33.3651514Z\", \"durationInMs\": 0.0091},{\"event\": \"Pipelined\", \"startTimeUtc\": \"2024-10-09T23:41:33.3651605Z\", \"durationInMs\": 0.062},{\"event\": \"Transit Time\", \"startTimeUtc\": \"2024-10-09T23:41:33.3652225Z\", \"durationInMs\": 0.5865},{\"event\": \"Received\", \"startTimeUtc\": \"2024-10-09T23:41:33.3658090Z\", \"durationInMs\": 0.0568},{\"event\": \"Completed\", \"startTimeUtc\": \"2024-10-09T23:41:33.3658658Z\", \"durationInMs\": 0}],\"serviceEndpointStats\":{\"inflightRequests\":1,\"openConnections\":1},\"connectionStats\":{\"waitforConnectionInit\":\"False\",\"callsPendingReceive\":0,\"lastSendAttempt\":\"2024-10-09T23:35:46.1942196Z\",\"lastSend\":\"2024-10-09T23:35:46.1942513Z\",\"lastReceive\":\"2024-10-09T23:35:46.1949167Z\"},\"requestSizeInBytes\":527,\"responseMetadataSizeInBytes\":146,\"responseBodySizeInBytes\":87};\n",
      " ResourceType: Document, OperationType: Read\n",
      ", Microsoft.Azure.Documents.Common/2.14.0\n",
      "Code: NotFound\n",
      "Message: Entity with the specified id does not exist in the system. More info: https://aka.ms/cosmosdb-tsg-not-found, \n",
      "RequestStartTime: 2024-10-09T23:41:33.3649681Z, RequestEndTime: 2024-10-09T23:41:33.3658705Z,  Number of regions attempted:1\n",
      "{\"systemHistory\":[{\"dateUtc\":\"2024-10-09T23:40:37.7522132Z\",\"cpu\":0.181,\"memory\":646286480.000,\"threadInfo\":{\"isThreadStarving\":\"False\",\"threadWaitIntervalInMs\":0.04,\"availableThreads\":32762,\"minThreads\":64,\"maxThreads\":32767},\"numberOfOpenTcpConnection\":812},{\"dateUtc\":\"2024-10-09T23:40:47.7622312Z\",\"cpu\":0.361,\"memory\":646285316.000,\"threadInfo\":{\"isThreadStarving\":\"False\",\"threadWaitIntervalInMs\":0.0199,\"availableThreads\":32763,\"minThreads\":64,\"maxThreads\":32767},\"numberOfOpenTcpConnection\":810},{\"dateUtc\":\"2024-10-09T23:40:57.7722208Z\",\"cpu\":0.666,\"memory\":646276600.000,\"threadInfo\":{\"isThreadStarving\":\"False\",\"threadWaitIntervalInMs\":0.0515,\"availableThreads\":32765,\"minThreads\":64,\"maxThreads\":32767},\"numberOfOpenTcpConnection\":812},{\"dateUtc\":\"2024-10-09T23:41:07.7822624Z\",\"cpu\":0.427,\"memory\":646259360.000,\"threadInfo\":{\"isThreadStarving\":\"False\",\"threadWaitIntervalInMs\":0.0668,\"availableThreads\":32763,\"minThreads\":64,\"maxThreads\":32767},\"numberOfOpenTcpConnection\":812},{\"dateUtc\":\"2024-10-09T23:41:17.7922646Z\",\"cpu\":0.454,\"memory\":646284964.000,\"threadInfo\":{\"isThreadStarving\":\"False\",\"threadWaitIntervalInMs\":0.0374,\"availableThreads\":32759,\"minThreads\":64,\"maxThreads\":32767},\"numberOfOpenTcpConnection\":811},{\"dateUtc\":\"2024-10-09T23:41:27.8022548Z\",\"cpu\":0.193,\"memory\":646280516.000,\"threadInfo\":{\"isThreadStarving\":\"False\",\"threadWaitIntervalInMs\":0.0307,\"availableThreads\":32761,\"minThreads\":64,\"maxThreads\":32767},\"numberOfOpenTcpConnection\":812}]}\n",
      "RequestStart: 2024-10-09T23:41:33.3652337Z; ResponseTime: 2024-10-09T23:41:33.3658705Z; StoreResult: StorePhysicalAddress: rntbd://cdb-ms-prod-eastus2-be94.documents.azure.com:14112/apps/5679bb00-dcaf-4918-be82-fa4dc8b7c8c2/services/7e3f52ba-860a-48d5-9b10-0ded7570765d/partitions/a8c97958-d057-434c-9d38-bfb306d4b78f/replicas/133728236056679876s/, LSN: 5, GlobalCommittedLsn: 5, PartitionKeyRangeId: 0, IsValid: True, StatusCode: 404, SubStatusCode: 0, RequestCharge: 1, ItemLSN: -1, SessionToken: -1#5, UsingLocalLSN: True, TransportException: null, BELatencyMs: 0.223, ActivityId: 45827d46-809f-4db4-9a21-d65ec83a15fe, RetryAfterInMs: , ReplicaHealthStatuses: [(port: 14094 | status: Unknown | lkt: 10/8/2024 1:21:39 AM),(port: 14084 | status: Unknown | lkt: 10/8/2024 1:21:39 AM),(port: 14093 | status: Unknown | lkt: 10/8/2024 1:21:39 AM),(port: 14112 | status: Unknown | lkt: 10/8/2024 1:21:39 AM)], TransportRequestTimeline: {\"requestTimeline\":[{\"event\": \"Created\", \"startTimeUtc\": \"2024-10-09T23:41:33.3651422Z\", \"durationInMs\": 0.0092},{\"event\": \"ChannelAcquisitionStarted\", \"startTimeUtc\": \"2024-10-09T23:41:33.3651514Z\", \"durationInMs\": 0.0091},{\"event\": \"Pipelined\", \"startTimeUtc\": \"2024-10-09T23:41:33.3651605Z\", \"durationInMs\": 0.062},{\"event\": \"Transit Time\", \"startTimeUtc\": \"2024-10-09T23:41:33.3652225Z\", \"durationInMs\": 0.5865},{\"event\": \"Received\", \"startTimeUtc\": \"2024-10-09T23:41:33.3658090Z\", \"durationInMs\": 0.0568},{\"event\": \"Completed\", \"startTimeUtc\": \"2024-10-09T23:41:33.3658658Z\", \"durationInMs\": 0}],\"serviceEndpointStats\":{\"inflightRequests\":1,\"openConnections\":1},\"connectionStats\":{\"waitforConnectionInit\":\"False\",\"callsPendingReceive\":0,\"lastSendAttempt\":\"2024-10-09T23:35:46.1942196Z\",\"lastSend\":\"2024-10-09T23:35:46.1942513Z\",\"lastReceive\":\"2024-10-09T23:35:46.1949167Z\"},\"requestSizeInBytes\":527,\"responseMetadataSizeInBytes\":146,\"responseBodySizeInBytes\":87};\n",
      " ResourceType: Document, OperationType: Read\n",
      ", Microsoft.Azure.Documents.Common/2.14.0\n"
     ]
    }
   ],
   "source": [
    "try:\n",
    "\titem = container.read_item (item=\"2\",partition_key=\"1\")\n",
    "\titem ['precio']='25.99'\n",
    "\titem ['departamento']='Artefactos'\n",
    "\tcontainer.replace_item(item=item,body=item)\n",
    "except Exception as e:\n",
    "\tprint (\"Error al actualizar el documento: \",e)\n"
   ]
  },
  {
   "cell_type": "code",
   "execution_count": 21,
   "metadata": {},
   "outputs": [],
   "source": [
    "container.delete_item (item=\"1\", partition_key=\"1\")"
   ]
  },
  {
   "cell_type": "code",
   "execution_count": 20,
   "metadata": {},
   "outputs": [
    {
     "data": {
      "text/plain": [
       "dict"
      ]
     },
     "execution_count": 20,
     "metadata": {},
     "output_type": "execute_result"
    }
   ],
   "source": [
    "documento = {\n",
    "\"id\": \"1\",\n",
    "\"nombre\": \"Producto A\",\n",
    "\"descripcion\": \"Descripcion del producto A\",\n",
    "\"precio\": 29.99,\n",
    "\"categoria\": \"Electronica\"\n",
    "}\n",
    "type (documento)"
   ]
  },
  {
   "cell_type": "code",
   "execution_count": 21,
   "metadata": {},
   "outputs": [
    {
     "data": {
      "text/plain": [
       "{'id': '1',\n",
       " 'nombre': 'Producto A',\n",
       " 'descripcion': 'Descripcion del producto A',\n",
       " 'precio': 29.99,\n",
       " 'categoria': 'Electronica',\n",
       " '_rid': 'UD0UAJvXKUgBAAAAAAAAAA==',\n",
       " '_self': 'dbs/UD0UAA==/colls/UD0UAJvXKUg=/docs/UD0UAJvXKUgBAAAAAAAAAA==/',\n",
       " '_etag': '\"1b001cc5-0000-0200-0000-670489160000\"',\n",
       " '_attachments': 'attachments/',\n",
       " '_ts': 1728350486}"
      ]
     },
     "execution_count": 21,
     "metadata": {},
     "output_type": "execute_result"
    }
   ],
   "source": [
    "container.create_item(body=documento)"
   ]
  },
  {
   "cell_type": "code",
   "execution_count": 22,
   "metadata": {},
   "outputs": [
    {
     "name": "stdout",
     "output_type": "stream",
     "text": [
      "[{'id': '1', 'nombre': 'Producto A', 'descripcion': 'Descripcion del producto A', 'precio': 29.99, 'categoria': 'Electronica', '_rid': 'UD0UAJvXKUgBAAAAAAAAAA==', '_self': 'dbs/UD0UAA==/colls/UD0UAJvXKUg=/docs/UD0UAJvXKUgBAAAAAAAAAA==/', '_etag': '\"1b001cc5-0000-0200-0000-670489160000\"', '_attachments': 'attachments/', '_ts': 1728350486}]\n"
     ]
    }
   ],
   "source": [
    "query = 'Select * from c'\n",
    "\n",
    "items = list(container.query_items(\n",
    "\tquery=query,\n",
    "\tenable_cross_partition_query=True\n",
    "))\n",
    "\n",
    "print (items)"
   ]
  }
 ],
 "metadata": {
  "kernelspec": {
   "display_name": "Python 3",
   "language": "python",
   "name": "python3"
  },
  "language_info": {
   "codemirror_mode": {
    "name": "ipython",
    "version": 3
   },
   "file_extension": ".py",
   "mimetype": "text/x-python",
   "name": "python",
   "nbconvert_exporter": "python",
   "pygments_lexer": "ipython3",
   "version": "3.12.1"
  }
 },
 "nbformat": 4,
 "nbformat_minor": 2
}
