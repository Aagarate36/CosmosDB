{
 "cells": [
  {
   "cell_type": "code",
   "execution_count": 4,
   "metadata": {},
   "outputs": [
    {
     "name": "stdout",
     "output_type": "stream",
     "text": [
      "Hola mundo\n",
      "fin del IF\n"
     ]
    },
    {
     "data": {
      "text/plain": [
       "float"
      ]
     },
     "execution_count": 4,
     "metadata": {},
     "output_type": "execute_result"
    }
   ],
   "source": [
    "# Indentacion\n",
    "\n",
    "print ('Hola mundo')\n",
    "\n",
    "if 1==2:\n",
    "    print(\"condicion 1\")\n",
    "    print(\"condicion 2\")\n",
    "\n",
    "print(\"fin del IF\")\n",
    "\n",
    "variable1 = 5\n",
    "variable2 = 'Manzana'\n",
    "variable3 = 3.5\n",
    "\n",
    "type (variable3)"
   ]
  },
  {
   "cell_type": "code",
   "execution_count": 9,
   "metadata": {},
   "outputs": [
    {
     "data": {
      "text/plain": [
       "8"
      ]
     },
     "execution_count": 9,
     "metadata": {},
     "output_type": "execute_result"
    }
   ],
   "source": [
    "# Listas\n",
    "\n",
    "var_lista = [3, 5, 7 ] # lista enteros\n",
    "var_lista_vacio =[] # lista vacios\n",
    "var_lista_mixto = [1, \"Manzana\", 44.4] # lista mixta\n",
    "var_lista_anidada = [3, \"Durazno\", [2, 6, 8]] # lista anidada\n",
    "\n",
    "var_lista_anidada [2][2]"
   ]
  },
  {
   "cell_type": "code",
   "execution_count": 11,
   "metadata": {},
   "outputs": [
    {
     "name": "stdout",
     "output_type": "stream",
     "text": [
      "6\n",
      "10\n",
      "14\n"
     ]
    }
   ],
   "source": [
    "for elemento in var_lista:\n",
    "    print (elemento*2)"
   ]
  },
  {
   "cell_type": "code",
   "execution_count": 31,
   "metadata": {},
   "outputs": [
    {
     "name": "stdout",
     "output_type": "stream",
     "text": [
      "Juan\n",
      "36\n",
      "{'name': 'Juan', 'age': 36, 'address': 'LIMA', 'pais': 'PERU'}\n"
     ]
    }
   ],
   "source": [
    "# Diccionarios\n",
    "'''\n",
    "{\n",
    "'key1': value1,\n",
    "'key2': value2\n",
    "}\n",
    "'''\n",
    "\n",
    "var_dict = {}\n",
    "var_dict_in = {1 : \"Plátano\" ,2: \"Pelota\"}\n",
    "var_dict_mixta = {1: 34, 'name': 'Juan'}\n",
    "var_dict_str = {'name': 'Juan','age': 36}\n",
    "var_dict_otr = {'correos':['ana@gmail.com','genaro.gmail.com']}\n",
    "\n",
    "\n",
    "print (var_dict_str['name'])\n",
    "print (var_dict_str['age'])\n",
    "\n",
    "\n",
    "address= (var_dict_str.get('address'))\n",
    "var_dict_str['address']='LIMA'\n",
    "var_dict_str['pais']='PERU'\n",
    "print(var_dict_str)"
   ]
  },
  {
   "cell_type": "code",
   "execution_count": null,
   "metadata": {},
   "outputs": [],
   "source": [
    "# Funciones\n",
    "\n",
    "def read_table(tabla):\n",
    "    query= f\"select * from {tabla}\"\n",
    "    return execute_query (query)\n",
    "\n",
    "var_productos = read_table ('productos')\n",
    "var_categorias = read_table ('categorias')"
   ]
  },
  {
   "cell_type": "code",
   "execution_count": 30,
   "metadata": {},
   "outputs": [
    {
     "name": "stdout",
     "output_type": "stream",
     "text": [
      "13\n"
     ]
    }
   ],
   "source": [
    "def suma (a, b):\n",
    "    sum = a + b\n",
    "    return sum \n",
    "\n",
    "var1= suma (5, 8)\n",
    "print (var1)"
   ]
  }
 ],
 "metadata": {
  "kernelspec": {
   "display_name": "Python 3",
   "language": "python",
   "name": "python3"
  },
  "language_info": {
   "codemirror_mode": {
    "name": "ipython",
    "version": 3
   },
   "file_extension": ".py",
   "mimetype": "text/x-python",
   "name": "python",
   "nbconvert_exporter": "python",
   "pygments_lexer": "ipython3",
   "version": "3.12.1"
  }
 },
 "nbformat": 4,
 "nbformat_minor": 2
}
